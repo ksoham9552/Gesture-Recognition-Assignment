{
  "cells": [
    {
      "cell_type": "markdown",
      "metadata": {
        "id": "THSlHo_Tikki"
      },
      "source": [
        "# Gesture Recognition project to detect 5 gestures"
      ]
    },
    {
      "cell_type": "code",
      "execution_count": null,
      "metadata": {
        "id": "2bAYbEN7ikku"
      },
      "outputs": [],
      "source": [
        "#Importing liabraries\n",
        "import numpy as np\n",
        "import cv2\n",
        "import imageio\n",
        "import os\n",
        "#from scipy.misc import imread, imresize\n",
        "import datetime\n",
        "import os\n",
        "from skimage.transform import resize"
      ]
    },
    {
      "cell_type": "markdown",
      "metadata": {
        "id": "Y02Nbuhgikkv"
      },
      "source": [
        "We set the random seed so that the results don't vary drastically."
      ]
    },
    {
      "cell_type": "code",
      "execution_count": null,
      "metadata": {
        "id": "IEnYqd06ikkw"
      },
      "outputs": [],
      "source": [
        "np.random.seed(30)\n",
        "import random as rn\n",
        "rn.seed(30)\n",
        "from keras import backend as K\n",
        "import tensorflow as tf\n",
        "#tf.set_random_seed(30)"
      ]
    },
    {
      "cell_type": "markdown",
      "metadata": {
        "id": "P8z1pYIkikkx"
      },
      "source": [
        "In this block, you read the folder names for training and validation. You also set the `batch_size` here. Note that you set the batch size in such a way that you are able to use the GPU in full capacity. You keep increasing the batch size until the machine throws an error."
      ]
    },
    {
      "cell_type": "code",
      "execution_count": 1,
      "metadata": {
        "colab": {
          "base_uri": "https://localhost:8080/"
        },
        "id": "sD9UpYNE7LL4",
        "outputId": "a9e4b37d-82ec-4375-f2cf-4914af35bfc2"
      },
      "outputs": [
        {
          "output_type": "stream",
          "name": "stdout",
          "text": [
            "Mounted at /content/gdrive\n"
          ]
        }
      ],
      "source": [
        "## If you are using the data by mounting the google drive, use the following :\n",
        "from google.colab import drive\n",
        "drive.mount('/content/gdrive')"
      ]
    },
    {
      "cell_type": "markdown",
      "source": [
        "Reading sequence list from **Jarvislabs.ai**"
      ],
      "metadata": {
        "id": "jw-qXGMky3on"
      }
    },
    {
      "cell_type": "code",
      "execution_count": null,
      "metadata": {
        "id": "dOiIX99xikkx"
      },
      "outputs": [],
      "source": [
        "train_doc = np.random.permutation(open('datasets/Project_data/train.csv').readlines())\n",
        "val_doc = np.random.permutation(open('datasets/Project_data/val.csv').readlines())\n",
        "batch_size = 32\n",
        "size = (108, 108)"
      ]
    },
    {
      "cell_type": "markdown",
      "source": [
        "Checking 120x160 image after resize"
      ],
      "metadata": {
        "id": "dHEl036JfmCR"
      }
    },
    {
      "cell_type": "code",
      "execution_count": null,
      "metadata": {
        "colab": {
          "base_uri": "https://localhost:8080/",
          "height": 193
        },
        "id": "HL45TXfYikky",
        "outputId": "961f4ce0-2e7f-4870-b338-43c0dd4bfbcf"
      },
      "outputs": [
        {
          "data": {
            "image/png": "[encoded data removed]",
            "text/plain": [
              "<Figure size 576x150 with 1 Axes>"
            ]
          },
          "metadata": {
            "needs_background": "light"
          },
          "output_type": "display_data"
        },
        {
          "data": {
            "text/plain": [
              "(150, 150, 3)"
            ]
          },
          "execution_count": 18,
          "metadata": {},
          "output_type": "execute_result"
        }
      ],
      "source": [
        "import imgaug as ia\n",
        "ima = imageio.imread('/content/gdrive/MyDrive/Colab Notebooks/Project_data/train/WIN_20180925_17_33_08_Pro_Left_Swipe_new/WIN_20180925_17_33_08_Pro_00011.png')\n",
        "ima1 = resize(ima[:,20:140,:],size)\n",
        "ia.imshow(ima1)\n",
        "np.shape(ima1)\n"
      ]
    },
    {
      "cell_type": "markdown",
      "metadata": {
        "id": "giVVzklvikk0"
      },
      "source": [
        "#### Generator\n",
        "This is one of the most important part of the code. In the generator, image preprocessing with two different sizes done. Normalization done."
      ]
    },
    {
      "cell_type": "code",
      "execution_count": null,
      "metadata": {
        "id": "hi6RA42rikk1"
      },
      "outputs": [],
      "source": [
        "def generator(source_path, folder_list, batch_size):\n",
        "    print( 'Source path = ', source_path, '; batch size =', batch_size)\n",
        "    img_idx = [0, 3, 6, 9, 10, 11, 12, 13, 14, 15, 16, 17, 19, 21, 23, 25, 27, 29]#create a list of image numbers you want to use for a particular video\n",
        "    while True:\n",
        "        t = np.random.permutation(folder_list)\n",
        "        num_batches = int(len(t)/batch_size)\n",
        "        remaining = len(t)%batch_size\n",
        "        for batch in range(num_batches): # we iterate over the number of batches\n",
        "            batch_data = np.zeros((batch_size,18,108,108,3)) #creating empty tensor to feed 18 images from each sequence with size 108*108\n",
        "            batch_labels = np.zeros((batch_size,5)) # batch_labels is the one hot representation of the output\n",
        "            for folder in range(batch_size): # iterate over the batch_size\n",
        "                imgs = os.listdir(source_path+'/'+ t[folder + (batch*batch_size)].split(';')[0]) # read all the images in the folder\n",
        "                for idx,item in enumerate(img_idx): #  Iterate iver the frames/images of a folder to read them in\n",
        "                    image = imageio.imread(source_path+'/'+ t[folder + (batch*batch_size)].strip().split(';')[0]+'/'+imgs[item]).astype(np.float32)\n",
        "                    #resizing the images to standardize the input\n",
        "                    if image.shape[1] == 160:\n",
        "                        image = resize(image[:,20:140,:],size).astype(np.float32)\n",
        "                    else:\n",
        "                        image = resize(image, size).astype(np.float32)\n",
        "                    #forming image tensor\n",
        "                    batch_data[folder,idx,:,:,0] = image[:,:,0]*(1./255)#normalise and feed in the image\n",
        "                    batch_data[folder,idx,:,:,1] = image[:,:,1]*(1./255)#normalise and feed in the image\n",
        "                    batch_data[folder,idx,:,:,2] = image[:,:,2]*(1./255)#normalise and feed in the image\n",
        "                    \n",
        "                batch_labels[folder, int(t[folder + (batch*batch_size)].strip().split(';')[2])] = 1\n",
        "            yield batch_data, batch_labels #yielding the batch_data and the batch_labels\n",
        "     #Consideration of remaining sequences out of batch size\n",
        "        if remaining != 0:\n",
        "            batch_data = np.zeros((remaining,18,108,108,3)) #creating empty tensor for remaining images\n",
        "            batch_labels = np.zeros((remaining,5)) # batch_labels is the one hot representation of the output\n",
        "            for folder in range(remaining): # iterate over the batch_size\n",
        "                imgs = os.listdir(source_path+'/'+ t[folder + (num_batches*batch_size)].split(';')[0]) # read all the images in the folder\n",
        "                for idx,item in enumerate(img_idx): #  Iterate iver the frames/images of a folder to read them in\n",
        "                    image = imageio.imread(source_path+'/'+ t[folder + (num_batches*batch_size)].strip().split(';')[0]+'/'+imgs[item]).astype(np.float32)\n",
        "                    if image.shape[1] == 160:\n",
        "                        image = resize(image[:,20:140,:],size).astype(np.float32)\n",
        "                    else:\n",
        "                        image = resize(image, size).astype(np.float32)\n",
        "                    \n",
        "                    batch_data[folder,idx,:,:,0] = image[:,:,0]*(1./255)#normalise and feed in the image\n",
        "                    batch_data[folder,idx,:,:,1] = image[:,:,1]*(1./255)#normalise and feed in the image\n",
        "                    batch_data[folder,idx,:,:,2] = image[:,:,2]*(1./255)#normalise and feed in the image\n",
        "                    \n",
        "                batch_labels[folder, int(t[folder + (num_batches*batch_size)].strip().split(';')[2])] = 1\n",
        "\n",
        "            yield batch_data, batch_labels"
      ]
    },
    {
      "cell_type": "markdown",
      "source": [
        "Checking generator trial run"
      ],
      "metadata": {
        "id": "BbR0g7Pegix-"
      }
    },
    {
      "cell_type": "code",
      "execution_count": null,
      "metadata": {
        "id": "doLW4Z-Eikk3",
        "scrolled": true
      },
      "outputs": [],
      "source": [
        "a = generator('/content/gdrive/MyDrive/Colab Notebooks/Project_data/train', train_doc, 3)\n",
        "print(next(a))"
      ]
    },
    {
      "cell_type": "markdown",
      "metadata": {
        "id": "F8T5c2uWikk3"
      },
      "source": [
        "# Reading images from train & val data sets from **Jarvislabs.ai**. Summarizing number of sequences and feeding epochs"
      ]
    },
    {
      "cell_type": "code",
      "execution_count": null,
      "metadata": {
        "colab": {
          "base_uri": "https://localhost:8080/"
        },
        "id": "iCkLQVd4ikk4",
        "outputId": "2dcb87f7-f733-4dba-fdde-a602364bff65"
      },
      "outputs": [
        {
          "name": "stdout",
          "output_type": "stream",
          "text": [
            "# training sequences = 663\n",
            "# validation sequences = 100\n",
            "# epochs = 25\n"
          ]
        }
      ],
      "source": [
        "curr_dt_time = datetime.datetime.now()\n",
        "train_path = 'datasets/Project_data/train'#read from jarvis data set\n",
        "val_path = 'datasets/Project_data/val'#read from jarvis data set\n",
        "num_train_sequences = len(train_doc)\n",
        "print('# training sequences =', num_train_sequences)\n",
        "num_val_sequences = len(val_doc)\n",
        "print('# validation sequences =', num_val_sequences)\n",
        "num_epochs = 25\n",
        "print ('# epochs =', num_epochs)"
      ]
    },
    {
      "cell_type": "markdown",
      "metadata": {
        "id": "C_Fis4aAikk4"
      },
      "source": [
        "## 1st Model with 3D Convolution network **(not a final model)**"
      ]
    },
    {
      "cell_type": "code",
      "execution_count": null,
      "metadata": {
        "id": "1Z9okW4yikk5"
      },
      "outputs": [],
      "source": [
        "from keras.models import Sequential, Model\n",
        "from keras.layers import Dense, GRU, Flatten, TimeDistributed, Flatten, BatchNormalization, Activation, Dropout\n",
        "from keras.layers.convolutional import Conv3D, MaxPooling3D\n",
        "from keras.callbacks import ModelCheckpoint, ReduceLROnPlateau\n",
        "from keras import optimizers\n",
        "\n",
        "#write your model here\n",
        "model = Sequential()\n",
        "model.add(Conv3D(32, (3,3,3), strides=(1,1,1), padding='same', input_shape=(18, 150, 150, 3)))\n",
        "model.add(BatchNormalization())\n",
        "model.add(Activation('relu'))\n",
        "model.add(MaxPooling3D(pool_size=(2,2,2), strides=(2,2,2)))\n",
        "\n",
        "model.add(Conv3D(64, (3,3,3), strides=(1,1,1), padding='same'))\n",
        "model.add(BatchNormalization())\n",
        "model.add(Activation('relu'))\n",
        "model.add(MaxPooling3D(pool_size=(2,2,2), strides=(2,2,2)))\n",
        "\n",
        "model.add(Dropout(0.25))\n",
        "\n",
        "model.add(Conv3D(128, (3,3,3), strides=(1,1,1), padding='same'))\n",
        "model.add(BatchNormalization())\n",
        "model.add(Activation('relu'))\n",
        "model.add(MaxPooling3D(pool_size=(2,2,2), strides=(2,2,2)))\n",
        "\n",
        "model.add(Dropout(0.25))\n",
        "\n",
        "model.add(Conv3D(256, (3,3,3), strides=(1,1,1), padding='same'))\n",
        "model.add(BatchNormalization())\n",
        "model.add(Activation('relu'))\n",
        "model.add(MaxPooling3D(pool_size=(2,2,2), strides=(2,2,2)))\n",
        "\n",
        "model.add(Flatten())\n",
        "model.add(Dropout(0.5))\n",
        "model.add(Dense(32, activation='relu'))\n",
        "model.add(Dropout(0.5))\n",
        "model.add(Dense(5, activation='softmax'))"
      ]
    },
    {
      "cell_type": "code",
      "execution_count": null,
      "metadata": {
        "id": "JJW4sSqcmq1-"
      },
      "outputs": [],
      "source": []
    },
    {
      "cell_type": "markdown",
      "metadata": {
        "id": "YAm-QLn-ikk5"
      },
      "source": [
        "3D model compile & summary"
      ]
    },
    {
      "cell_type": "code",
      "execution_count": null,
      "metadata": {
        "colab": {
          "base_uri": "https://localhost:8080/"
        },
        "id": "aOXEHlCQikk6",
        "outputId": "8d791ff0-ab50-4cd6-f558-259a063d459f",
        "scrolled": true
      },
      "outputs": [
        {
          "name": "stdout",
          "output_type": "stream",
          "text": [
            "Model: \"sequential_3\"\n",
            "_________________________________________________________________\n",
            " Layer (type)                Output Shape              Param #   \n",
            "=================================================================\n",
            " conv3d_12 (Conv3D)          (None, 18, 150, 150, 32)  2624      \n",
            "                                                                 \n",
            " batch_normalization_12 (Bat  (None, 18, 150, 150, 32)  128      \n",
            " chNormalization)                                                \n",
            "                                                                 \n",
            " activation_12 (Activation)  (None, 18, 150, 150, 32)  0         \n",
            "                                                                 \n",
            " max_pooling3d_12 (MaxPoolin  (None, 9, 75, 75, 32)    0         \n",
            " g3D)                                                            \n",
            "                                                                 \n",
            " conv3d_13 (Conv3D)          (None, 9, 75, 75, 64)     55360     \n",
            "                                                                 \n",
            " batch_normalization_13 (Bat  (None, 9, 75, 75, 64)    256       \n",
            " chNormalization)                                                \n",
            "                                                                 \n",
            " activation_13 (Activation)  (None, 9, 75, 75, 64)     0         \n",
            "                                                                 \n",
            " max_pooling3d_13 (MaxPoolin  (None, 4, 37, 37, 64)    0         \n",
            " g3D)                                                            \n",
            "                                                                 \n",
            " dropout_12 (Dropout)        (None, 4, 37, 37, 64)     0         \n",
            "                                                                 \n",
            " conv3d_14 (Conv3D)          (None, 4, 37, 37, 128)    221312    \n",
            "                                                                 \n",
            " batch_normalization_14 (Bat  (None, 4, 37, 37, 128)   512       \n",
            " chNormalization)                                                \n",
            "                                                                 \n",
            " activation_14 (Activation)  (None, 4, 37, 37, 128)    0         \n",
            "                                                                 \n",
            " max_pooling3d_14 (MaxPoolin  (None, 2, 18, 18, 128)   0         \n",
            " g3D)                                                            \n",
            "                                                                 \n",
            " dropout_13 (Dropout)        (None, 2, 18, 18, 128)    0         \n",
            "                                                                 \n",
            " conv3d_15 (Conv3D)          (None, 2, 18, 18, 256)    884992    \n",
            "                                                                 \n",
            " batch_normalization_15 (Bat  (None, 2, 18, 18, 256)   1024      \n",
            " chNormalization)                                                \n",
            "                                                                 \n",
            " activation_15 (Activation)  (None, 2, 18, 18, 256)    0         \n",
            "                                                                 \n",
            " max_pooling3d_15 (MaxPoolin  (None, 1, 9, 9, 256)     0         \n",
            " g3D)                                                            \n",
            "                                                                 \n",
            " flatten_3 (Flatten)         (None, 20736)             0         \n",
            "                                                                 \n",
            " dropout_14 (Dropout)        (None, 20736)             0         \n",
            "                                                                 \n",
            " dense_6 (Dense)             (None, 32)                663584    \n",
            "                                                                 \n",
            " dropout_15 (Dropout)        (None, 32)                0         \n",
            "                                                                 \n",
            " dense_7 (Dense)             (None, 5)                 165       \n",
            "                                                                 \n",
            "=================================================================\n",
            "Total params: 1,829,957\n",
            "Trainable params: 1,828,997\n",
            "Non-trainable params: 960\n",
            "_________________________________________________________________\n",
            "None\n"
          ]
        }
      ],
      "source": [
        "import keras.backend as K\n",
        "# optimiser = optimizers.SGD(lr=0.01, decay=1e-6, momentum=0.7, nesterov=True)\n",
        "model.compile(optimizer='adam', loss='categorical_crossentropy', metrics=['categorical_accuracy'])\n",
        "model.optimizer.lr.assign(0.001)\n",
        "print (model.summary())"
      ]
    },
    {
      "cell_type": "code",
      "execution_count": null,
      "metadata": {
        "colab": {
          "base_uri": "https://localhost:8080/"
        },
        "id": "deLLQms4xslz",
        "outputId": "41dd5b9a-5e24-4c0b-c019-c50d1f590e17"
      },
      "outputs": [
        {
          "name": "stdout",
          "output_type": "stream",
          "text": [
            "0.01\n"
          ]
        }
      ],
      "source": [
        "print(K.eval(model.optimizer.lr))#Checking initial learning rate"
      ]
    },
    {
      "cell_type": "markdown",
      "metadata": {
        "id": "kUwGYbpyikk7"
      },
      "source": [
        "Let us create the `train_generator` and the `val_generator` which will be used in `.fit_generator`."
      ]
    },
    {
      "cell_type": "code",
      "execution_count": null,
      "metadata": {
        "id": "t11kxMA1ikk7"
      },
      "outputs": [],
      "source": [
        "train_generator = generator(train_path, train_doc, batch_size)\n",
        "val_generator = generator(val_path, val_doc, batch_size)"
      ]
    },
    {
      "cell_type": "code",
      "execution_count": null,
      "metadata": {
        "id": "z11_BwuVikk7"
      },
      "outputs": [],
      "source": [
        "model_name = '2DCNN_108_bs32_sgd' + '_' + str(curr_dt_time).replace(' ','').replace(':','_') + '/'\n",
        "    \n",
        "if not os.path.exists(model_name):\n",
        "    os.mkdir(model_name)\n",
        "\n",
        "filepath = model_name + 'model-{epoch:05d}-{loss:.5f}-{categorical_accuracy:.5f}-{val_loss:.5f}-{val_categorical_accuracy:.5f}.h5'\n",
        "\n",
        "checkpoint = ModelCheckpoint(filepath, monitor='val_loss', verbose=1, save_best_only=False, save_weights_only=False, mode='auto', save_freq='epoch')\n",
        "\n",
        "LR = ReduceLROnPlateau(monitor='val_loss', factor=0.5, patience=2, verbose=1, mode='min', min_delta=0.0001, cooldown=0, min_lr=0.00001)\n",
        "callbacks_list = [checkpoint, LR]"
      ]
    },
    {
      "cell_type": "markdown",
      "metadata": {
        "id": "Q6SJJF_oikk8"
      },
      "source": [
        "The `steps_per_epoch` and `validation_steps` are used by `fit_generator` to decide the number of next() calls it need to make."
      ]
    },
    {
      "cell_type": "code",
      "execution_count": null,
      "metadata": {
        "id": "DAN__duWikk8",
        "outputId": "cdf72209-efe8-40a4-c234-3c4c326b5773"
      },
      "outputs": [
        {
          "data": {
            "text/plain": [
              "21"
            ]
          },
          "execution_count": 16,
          "metadata": {},
          "output_type": "execute_result"
        }
      ],
      "source": [
        "if (num_train_sequences%batch_size) == 0:\n",
        "    steps_per_epoch = int(num_train_sequences/batch_size)\n",
        "else:\n",
        "    steps_per_epoch = (num_train_sequences//batch_size) + 1\n",
        "\n",
        "if (num_val_sequences%batch_size) == 0:\n",
        "    validation_steps = int(num_val_sequences/batch_size)\n",
        "else:\n",
        "    validation_steps = (num_val_sequences//batch_size) + 1\n",
        "steps_per_epoch"
      ]
    },
    {
      "cell_type": "markdown",
      "metadata": {
        "id": "jnLtUHh5ikk8"
      },
      "source": [
        "Let us now fit the model. This will start training the model and with the help of the checkpoints, you'll be able to save the model at the end of each epoch."
      ]
    },
    {
      "cell_type": "code",
      "execution_count": null,
      "metadata": {
        "id": "XAnJoXd8ikk8",
        "outputId": "759cd352-af5a-47be-fc59-1d63894d7e4d"
      },
      "outputs": [
        {
          "name": "stderr",
          "output_type": "stream",
          "text": [
            "/tmp/ipykernel_372/385748685.py:1: UserWarning: `Model.fit_generator` is deprecated and will be removed in a future version. Please use `Model.fit`, which supports generators.\n",
            "  model.fit_generator(train_generator, steps_per_epoch=steps_per_epoch, epochs=num_epochs, verbose=1,\n"
          ]
        },
        {
          "name": "stdout",
          "output_type": "stream",
          "text": [
            "Source path =  datasets/Project_data/train ; batch size = 32\n",
            "Epoch 1/20\n",
            "21/21 [==============================] - ETA: 0s - loss: 4.7327 - categorical_accuracy: 0.1931Source path =  datasets/Project_data/val ; batch size = 32\n",
            "\n",
            "Epoch 00001: saving model to 3DCNN_150_bs32_adam_2023-01-1017_50_04.709817/model-00001-4.73270-0.19306-1.60964-0.16000.h5\n",
            "21/21 [==============================] - 103s 5s/step - loss: 4.7327 - categorical_accuracy: 0.1931 - val_loss: 1.6096 - val_categorical_accuracy: 0.1600 - lr: 0.0010\n",
            "Epoch 2/20\n",
            "21/21 [==============================] - ETA: 0s - loss: 1.6095 - categorical_accuracy: 0.1855\n",
            "Epoch 00002: saving model to 3DCNN_150_bs32_adam_2023-01-1017_50_04.709817/model-00002-1.60951-0.18552-1.60964-0.15000.h5\n",
            "21/21 [==============================] - 103s 5s/step - loss: 1.6095 - categorical_accuracy: 0.1855 - val_loss: 1.6096 - val_categorical_accuracy: 0.1500 - lr: 0.0010\n",
            "Epoch 3/20\n",
            "21/21 [==============================] - ETA: 0s - loss: 1.6095 - categorical_accuracy: 0.1855\n",
            "Epoch 00003: saving model to 3DCNN_150_bs32_adam_2023-01-1017_50_04.709817/model-00003-1.60948-0.18552-1.60970-0.17000.h5\n",
            "\n",
            "Epoch 00003: ReduceLROnPlateau reducing learning rate to 0.0005000000237487257.\n",
            "21/21 [==============================] - 100s 5s/step - loss: 1.6095 - categorical_accuracy: 0.1855 - val_loss: 1.6097 - val_categorical_accuracy: 0.1700 - lr: 0.0010\n",
            "Epoch 4/20\n",
            "21/21 [==============================] - ETA: 0s - loss: 1.6094 - categorical_accuracy: 0.2051\n",
            "Epoch 00004: saving model to 3DCNN_150_bs32_adam_2023-01-1017_50_04.709817/model-00004-1.60939-0.20513-1.60934-0.17000.h5\n",
            "21/21 [==============================] - 97s 5s/step - loss: 1.6094 - categorical_accuracy: 0.2051 - val_loss: 1.6093 - val_categorical_accuracy: 0.1700 - lr: 5.0000e-04\n",
            "Epoch 5/20\n",
            "21/21 [==============================] - ETA: 0s - loss: 1.6093 - categorical_accuracy: 0.2051\n",
            "Epoch 00005: saving model to 3DCNN_150_bs32_adam_2023-01-1017_50_04.709817/model-00005-1.60933-0.20513-1.60925-0.18000.h5\n",
            "21/21 [==============================] - 99s 5s/step - loss: 1.6093 - categorical_accuracy: 0.2051 - val_loss: 1.6093 - val_categorical_accuracy: 0.1800 - lr: 5.0000e-04\n",
            "Epoch 6/20\n",
            "21/21 [==============================] - ETA: 0s - loss: 1.6093 - categorical_accuracy: 0.1765\n",
            "Epoch 00006: saving model to 3DCNN_150_bs32_adam_2023-01-1017_50_04.709817/model-00006-1.60930-0.17647-1.60930-0.22000.h5\n",
            "\n",
            "Epoch 00006: ReduceLROnPlateau reducing learning rate to 0.0002500000118743628.\n",
            "21/21 [==============================] - 100s 5s/step - loss: 1.6093 - categorical_accuracy: 0.1765 - val_loss: 1.6093 - val_categorical_accuracy: 0.2200 - lr: 5.0000e-04\n",
            "Epoch 7/20\n",
            "21/21 [==============================] - ETA: 0s - loss: 1.6093 - categorical_accuracy: 0.1900\n",
            "Epoch 00007: saving model to 3DCNN_150_bs32_adam_2023-01-1017_50_04.709817/model-00007-1.60931-0.19005-1.60894-0.15000.h5\n",
            "21/21 [==============================] - 100s 5s/step - loss: 1.6093 - categorical_accuracy: 0.1900 - val_loss: 1.6089 - val_categorical_accuracy: 0.1500 - lr: 2.5000e-04\n",
            "Epoch 8/20\n",
            "21/21 [==============================] - ETA: 0s - loss: 1.6092 - categorical_accuracy: 0.1946\n",
            "Epoch 00008: saving model to 3DCNN_150_bs32_adam_2023-01-1017_50_04.709817/model-00008-1.60923-0.19457-1.60875-0.23000.h5\n",
            "21/21 [==============================] - 96s 5s/step - loss: 1.6092 - categorical_accuracy: 0.1946 - val_loss: 1.6087 - val_categorical_accuracy: 0.2300 - lr: 2.5000e-04\n",
            "Epoch 9/20\n",
            "21/21 [==============================] - ETA: 0s - loss: 1.6092 - categorical_accuracy: 0.2066\n",
            "Epoch 00009: saving model to 3DCNN_150_bs32_adam_2023-01-1017_50_04.709817/model-00009-1.60922-0.20664-1.60902-0.23000.h5\n",
            "21/21 [==============================] - 99s 5s/step - loss: 1.6092 - categorical_accuracy: 0.2066 - val_loss: 1.6090 - val_categorical_accuracy: 0.2300 - lr: 2.5000e-04\n",
            "Epoch 10/20\n",
            "21/21 [==============================] - ETA: 0s - loss: 1.6092 - categorical_accuracy: 0.2066\n",
            "Epoch 00010: saving model to 3DCNN_150_bs32_adam_2023-01-1017_50_04.709817/model-00010-1.60923-0.20664-1.60880-0.19000.h5\n",
            "\n",
            "Epoch 00010: ReduceLROnPlateau reducing learning rate to 0.0001250000059371814.\n",
            "21/21 [==============================] - 100s 5s/step - loss: 1.6092 - categorical_accuracy: 0.2066 - val_loss: 1.6088 - val_categorical_accuracy: 0.1900 - lr: 2.5000e-04\n",
            "Epoch 11/20\n",
            "21/21 [==============================] - ETA: 0s - loss: 1.6092 - categorical_accuracy: 0.2066\n",
            "Epoch 00011: saving model to 3DCNN_150_bs32_adam_2023-01-1017_50_04.709817/model-00011-1.60918-0.20664-1.60924-0.18000.h5\n",
            "21/21 [==============================] - 100s 5s/step - loss: 1.6092 - categorical_accuracy: 0.2066 - val_loss: 1.6092 - val_categorical_accuracy: 0.1800 - lr: 1.2500e-04\n",
            "Epoch 12/20\n",
            "21/21 [==============================] - ETA: 0s - loss: 1.6092 - categorical_accuracy: 0.2066\n",
            "Epoch 00012: saving model to 3DCNN_150_bs32_adam_2023-01-1017_50_04.709817/model-00012-1.60917-0.20664-1.60899-0.24000.h5\n",
            "\n",
            "Epoch 00012: ReduceLROnPlateau reducing learning rate to 6.25000029685907e-05.\n",
            "21/21 [==============================] - 97s 5s/step - loss: 1.6092 - categorical_accuracy: 0.2066 - val_loss: 1.6090 - val_categorical_accuracy: 0.2400 - lr: 1.2500e-04\n",
            "Epoch 13/20\n",
            "21/21 [==============================] - ETA: 0s - loss: 1.6092 - categorical_accuracy: 0.2066\n",
            "Epoch 00013: saving model to 3DCNN_150_bs32_adam_2023-01-1017_50_04.709817/model-00013-1.60916-0.20664-1.60890-0.23000.h5\n",
            "21/21 [==============================] - 101s 5s/step - loss: 1.6092 - categorical_accuracy: 0.2066 - val_loss: 1.6089 - val_categorical_accuracy: 0.2300 - lr: 6.2500e-05\n",
            "Epoch 14/20\n",
            "21/21 [==============================] - ETA: 0s - loss: 1.6092 - categorical_accuracy: 0.2066\n",
            "Epoch 00014: saving model to 3DCNN_150_bs32_adam_2023-01-1017_50_04.709817/model-00014-1.60915-0.20664-1.60863-0.22000.h5\n",
            "21/21 [==============================] - 99s 5s/step - loss: 1.6092 - categorical_accuracy: 0.2066 - val_loss: 1.6086 - val_categorical_accuracy: 0.2200 - lr: 6.2500e-05\n",
            "Epoch 15/20\n",
            "21/21 [==============================] - ETA: 0s - loss: 1.6091 - categorical_accuracy: 0.2066\n",
            "Epoch 00015: saving model to 3DCNN_150_bs32_adam_2023-01-1017_50_04.709817/model-00015-1.60915-0.20664-1.60857-0.23000.h5\n",
            "21/21 [==============================] - 101s 5s/step - loss: 1.6091 - categorical_accuracy: 0.2066 - val_loss: 1.6086 - val_categorical_accuracy: 0.2300 - lr: 6.2500e-05\n",
            "Epoch 16/20\n",
            "21/21 [==============================] - ETA: 0s - loss: 1.6091 - categorical_accuracy: 0.2066\n",
            "Epoch 00016: saving model to 3DCNN_150_bs32_adam_2023-01-1017_50_04.709817/model-00016-1.60915-0.20664-1.60916-0.23000.h5\n",
            "\n",
            "Epoch 00016: ReduceLROnPlateau reducing learning rate to 3.125000148429535e-05.\n",
            "21/21 [==============================] - 97s 5s/step - loss: 1.6091 - categorical_accuracy: 0.2066 - val_loss: 1.6092 - val_categorical_accuracy: 0.2300 - lr: 6.2500e-05\n",
            "Epoch 17/20\n",
            "21/21 [==============================] - ETA: 0s - loss: 1.6091 - categorical_accuracy: 0.2066\n",
            "Epoch 00017: saving model to 3DCNN_150_bs32_adam_2023-01-1017_50_04.709817/model-00017-1.60914-0.20664-1.60887-0.23000.h5\n",
            "21/21 [==============================] - 100s 5s/step - loss: 1.6091 - categorical_accuracy: 0.2066 - val_loss: 1.6089 - val_categorical_accuracy: 0.2300 - lr: 3.1250e-05\n",
            "Epoch 18/20\n",
            "21/21 [==============================] - ETA: 0s - loss: 1.6091 - categorical_accuracy: 0.2066\n",
            "Epoch 00018: saving model to 3DCNN_150_bs32_adam_2023-01-1017_50_04.709817/model-00018-1.60914-0.20664-1.60867-0.20000.h5\n",
            "\n",
            "Epoch 00018: ReduceLROnPlateau reducing learning rate to 1.5625000742147677e-05.\n",
            "21/21 [==============================] - 101s 5s/step - loss: 1.6091 - categorical_accuracy: 0.2066 - val_loss: 1.6087 - val_categorical_accuracy: 0.2000 - lr: 3.1250e-05\n",
            "Epoch 19/20\n",
            "21/21 [==============================] - ETA: 0s - loss: 1.6091 - categorical_accuracy: 0.2066\n",
            "Epoch 00019: saving model to 3DCNN_150_bs32_adam_2023-01-1017_50_04.709817/model-00019-1.60914-0.20664-1.60941-0.22000.h5\n",
            "21/21 [==============================] - 100s 5s/step - loss: 1.6091 - categorical_accuracy: 0.2066 - val_loss: 1.6094 - val_categorical_accuracy: 0.2200 - lr: 1.5625e-05\n",
            "Epoch 20/20\n",
            "21/21 [==============================] - ETA: 0s - loss: 1.6091 - categorical_accuracy: 0.2066\n",
            "Epoch 00020: saving model to 3DCNN_150_bs32_adam_2023-01-1017_50_04.709817/model-00020-1.60914-0.20664-1.60886-0.23000.h5\n",
            "\n",
            "Epoch 00020: ReduceLROnPlateau reducing learning rate to 1e-05.\n",
            "21/21 [==============================] - 96s 5s/step - loss: 1.6091 - categorical_accuracy: 0.2066 - val_loss: 1.6089 - val_categorical_accuracy: 0.2300 - lr: 1.5625e-05\n"
          ]
        },
        {
          "data": {
            "text/plain": [
              "<keras.callbacks.History at 0x7f3a908c6f70>"
            ]
          },
          "execution_count": 37,
          "metadata": {},
          "output_type": "execute_result"
        }
      ],
      "source": [
        "model.fit_generator(train_generator, steps_per_epoch=steps_per_epoch, epochs=num_epochs, verbose=1, \n",
        "                    callbacks=callbacks_list, validation_data=val_generator, \n",
        "                    validation_steps=validation_steps, class_weight=None, workers=1, initial_epoch=0)"
      ]
    },
    {
      "cell_type": "markdown",
      "source": [
        "## **Final Model** --> 2D CNN + RNN\n",
        "Using transfer learning with VGG16 trained weights. Weights are trainable"
      ],
      "metadata": {
        "id": "0NxzpJCPhuJ5"
      }
    },
    {
      "cell_type": "code",
      "execution_count": null,
      "metadata": {
        "id": "nEJXMNBPikk8"
      },
      "outputs": [],
      "source": [
        "from keras.models import Sequential, Model\n",
        "from keras.layers import Dense, GRU, Dropout, Flatten, TimeDistributed\n",
        "from keras.callbacks import ModelCheckpoint, ReduceLROnPlateau\n",
        "from keras import optimizers\n",
        "from keras.applications.vgg16 import VGG16\n",
        "    \n",
        "base_model = VGG16(include_top=False, weights='imagenet', input_shape=(108,108,3))\n",
        "x = base_model.output\n",
        "x = Flatten()(x)\n",
        "features = Dense(32, activation='relu')(x)\n",
        "con2d_model = Model(inputs=base_model.input, outputs=features)\n",
        "    \n",
        "for layer in base_model.layers:\n",
        "    layer.trainable = True\n",
        "        \n",
        "model_2dRnn = Sequential()\n",
        "model_2dRnn.add(TimeDistributed(con2d_model, input_shape=(18,108,108,3)))\n",
        "model_2dRnn.add(GRU(32, return_sequences=True))\n",
        "model_2dRnn.add(GRU(16))\n",
        "model_2dRnn.add(Dropout(0.5))\n",
        "model_2dRnn.add(Dense(8, activation='relu'))\n",
        "model_2dRnn.add(Dense(5, activation='softmax'))"
      ]
    },
    {
      "cell_type": "code",
      "execution_count": null,
      "metadata": {
        "colab": {
          "base_uri": "https://localhost:8080/"
        },
        "id": "9GeoZmMF7yMQ",
        "outputId": "91171949-5532-487a-990d-0cc2b974f28b"
      },
      "outputs": [
        {
          "name": "stdout",
          "output_type": "stream",
          "text": [
            "Model: \"sequential_2\"\n",
            "_________________________________________________________________\n",
            " Layer (type)                Output Shape              Param #   \n",
            "=================================================================\n",
            " time_distributed_2 (TimeDis  (None, 18, 32)           14862176  \n",
            " tributed)                                                       \n",
            "                                                                 \n",
            " gru_4 (GRU)                 (None, 18, 32)            6336      \n",
            "                                                                 \n",
            " gru_5 (GRU)                 (None, 16)                2400      \n",
            "                                                                 \n",
            " dropout_2 (Dropout)         (None, 16)                0         \n",
            "                                                                 \n",
            " dense_7 (Dense)             (None, 8)                 136       \n",
            "                                                                 \n",
            " dense_8 (Dense)             (None, 5)                 45        \n",
            "                                                                 \n",
            "=================================================================\n",
            "Total params: 14,871,093\n",
            "Trainable params: 14,871,093\n",
            "Non-trainable params: 0\n",
            "_________________________________________________________________\n",
            "None\n"
          ]
        }
      ],
      "source": [
        "#Model defination, compilation. \n",
        "model_2dRnn.compile(optimizer='sgd', loss='categorical_crossentropy', metrics=['categorical_accuracy'])#Using Stochastic gradient descent and categorical crossentropy as loss\n",
        "print (model_2dRnn.summary())"
      ]
    },
    {
      "cell_type": "markdown",
      "source": [
        "Calling generator function"
      ],
      "metadata": {
        "id": "4TWvoTsmr0IC"
      }
    },
    {
      "cell_type": "code",
      "execution_count": null,
      "metadata": {
        "id": "nmB3S9Xi706v"
      },
      "outputs": [],
      "source": [
        "train_generator = generator(train_path, train_doc, batch_size)\n",
        "val_generator = generator(val_path, val_doc, batch_size)"
      ]
    },
    {
      "cell_type": "markdown",
      "source": [
        "Model fit"
      ],
      "metadata": {
        "id": "eSVnFZjcrxPX"
      }
    },
    {
      "cell_type": "code",
      "execution_count": null,
      "metadata": {
        "colab": {
          "base_uri": "https://localhost:8080/"
        },
        "id": "r9DlaRcy89Ea",
        "outputId": "a1328498-b99a-43d0-fc45-2e10c421c612"
      },
      "outputs": [
        {
          "name": "stderr",
          "output_type": "stream",
          "text": [
            "/tmp/ipykernel_403/662610721.py:1: UserWarning: `Model.fit_generator` is deprecated and will be removed in a future version. Please use `Model.fit`, which supports generators.\n",
            "  model_2dRnn.fit_generator(train_generator, steps_per_epoch=steps_per_epoch, epochs=num_epochs, verbose=1,\n"
          ]
        },
        {
          "name": "stdout",
          "output_type": "stream",
          "text": [
            "Source path =  datasets/Project_data/train ; batch size = 32\n",
            "Epoch 1/25\n",
            "21/21 [==============================] - ETA: 0s - loss: 1.6192 - categorical_accuracy: 0.2293Source path =  datasets/Project_data/val ; batch size = 32\n",
            "\n",
            "Epoch 00001: saving model to 2DCNN_108_bs32_sgd_2023-01-1114_05_01.521686/model-00001-1.61918-0.22926-1.61516-0.22000.h5\n",
            "21/21 [==============================] - 102s 5s/step - loss: 1.6192 - categorical_accuracy: 0.2293 - val_loss: 1.6152 - val_categorical_accuracy: 0.2200 - lr: 0.0100\n",
            "Epoch 2/25\n",
            "21/21 [==============================] - ETA: 0s - loss: 1.5852 - categorical_accuracy: 0.2851\n",
            "Epoch 00002: saving model to 2DCNN_108_bs32_sgd_2023-01-1114_05_01.521686/model-00002-1.58515-0.28507-1.49706-0.35000.h5\n",
            "21/21 [==============================] - 94s 5s/step - loss: 1.5852 - categorical_accuracy: 0.2851 - val_loss: 1.4971 - val_categorical_accuracy: 0.3500 - lr: 0.0100\n",
            "Epoch 3/25\n",
            "21/21 [==============================] - ETA: 0s - loss: 1.4965 - categorical_accuracy: 0.3590\n",
            "Epoch 00003: saving model to 2DCNN_108_bs32_sgd_2023-01-1114_05_01.521686/model-00003-1.49646-0.35897-1.34542-0.53000.h5\n",
            "21/21 [==============================] - 98s 5s/step - loss: 1.4965 - categorical_accuracy: 0.3590 - val_loss: 1.3454 - val_categorical_accuracy: 0.5300 - lr: 0.0100\n",
            "Epoch 4/25\n",
            "21/21 [==============================] - ETA: 0s - loss: 1.4664 - categorical_accuracy: 0.3665\n",
            "Epoch 00004: saving model to 2DCNN_108_bs32_sgd_2023-01-1114_05_01.521686/model-00004-1.46644-0.36652-1.31044-0.50000.h5\n",
            "21/21 [==============================] - 92s 5s/step - loss: 1.4664 - categorical_accuracy: 0.3665 - val_loss: 1.3104 - val_categorical_accuracy: 0.5000 - lr: 0.0100\n",
            "Epoch 5/25\n",
            "21/21 [==============================] - ETA: 0s - loss: 1.3399 - categorical_accuracy: 0.4449\n",
            "Epoch 00005: saving model to 2DCNN_108_bs32_sgd_2023-01-1114_05_01.521686/model-00005-1.33992-0.44495-1.14501-0.68000.h5\n",
            "21/21 [==============================] - 97s 5s/step - loss: 1.3399 - categorical_accuracy: 0.4449 - val_loss: 1.1450 - val_categorical_accuracy: 0.6800 - lr: 0.0100\n",
            "Epoch 6/25\n",
            "21/21 [==============================] - ETA: 0s - loss: 1.2116 - categorical_accuracy: 0.5460\n",
            "Epoch 00006: saving model to 2DCNN_108_bs32_sgd_2023-01-1114_05_01.521686/model-00006-1.21160-0.54600-1.09932-0.65000.h5\n",
            "21/21 [==============================] - 97s 5s/step - loss: 1.2116 - categorical_accuracy: 0.5460 - val_loss: 1.0993 - val_categorical_accuracy: 0.6500 - lr: 0.0100\n",
            "Epoch 7/25\n",
            "21/21 [==============================] - ETA: 0s - loss: 1.0862 - categorical_accuracy: 0.6546\n",
            "Epoch 00007: saving model to 2DCNN_108_bs32_sgd_2023-01-1114_05_01.521686/model-00007-1.08617-0.65460-0.98591-0.76000.h5\n",
            "21/21 [==============================] - 97s 5s/step - loss: 1.0862 - categorical_accuracy: 0.6546 - val_loss: 0.9859 - val_categorical_accuracy: 0.7600 - lr: 0.0100\n",
            "Epoch 8/25\n",
            "21/21 [==============================] - ETA: 0s - loss: 1.0328 - categorical_accuracy: 0.6998\n",
            "Epoch 00008: saving model to 2DCNN_108_bs32_sgd_2023-01-1114_05_01.521686/model-00008-1.03284-0.69985-0.83452-0.88000.h5\n",
            "21/21 [==============================] - 93s 5s/step - loss: 1.0328 - categorical_accuracy: 0.6998 - val_loss: 0.8345 - val_categorical_accuracy: 0.8800 - lr: 0.0100\n",
            "Epoch 9/25\n",
            "21/21 [==============================] - ETA: 0s - loss: 0.8954 - categorical_accuracy: 0.7873\n",
            "Epoch 00009: saving model to 2DCNN_108_bs32_sgd_2023-01-1114_05_01.521686/model-00009-0.89539-0.78733-0.73577-0.90000.h5\n",
            "21/21 [==============================] - 97s 5s/step - loss: 0.8954 - categorical_accuracy: 0.7873 - val_loss: 0.7358 - val_categorical_accuracy: 0.9000 - lr: 0.0100\n",
            "Epoch 10/25\n",
            "21/21 [==============================] - ETA: 0s - loss: 0.8453 - categorical_accuracy: 0.7964\n",
            "Epoch 00010: saving model to 2DCNN_108_bs32_sgd_2023-01-1114_05_01.521686/model-00010-0.84531-0.79638-0.91635-0.73000.h5\n",
            "21/21 [==============================] - 96s 5s/step - loss: 0.8453 - categorical_accuracy: 0.7964 - val_loss: 0.9163 - val_categorical_accuracy: 0.7300 - lr: 0.0100\n",
            "Epoch 11/25\n",
            "21/21 [==============================] - ETA: 0s - loss: 0.7655 - categorical_accuracy: 0.8296\n",
            "Epoch 00011: saving model to 2DCNN_108_bs32_sgd_2023-01-1114_05_01.521686/model-00011-0.76554-0.82956-0.67514-0.86000.h5\n",
            "21/21 [==============================] - 96s 5s/step - loss: 0.7655 - categorical_accuracy: 0.8296 - val_loss: 0.6751 - val_categorical_accuracy: 0.8600 - lr: 0.0100\n",
            "Epoch 12/25\n",
            "21/21 [==============================] - ETA: 0s - loss: 0.7762 - categorical_accuracy: 0.7994\n",
            "Epoch 00012: saving model to 2DCNN_108_bs32_sgd_2023-01-1114_05_01.521686/model-00012-0.77625-0.79940-0.60890-0.89000.h5\n",
            "21/21 [==============================] - 91s 4s/step - loss: 0.7762 - categorical_accuracy: 0.7994 - val_loss: 0.6089 - val_categorical_accuracy: 0.8900 - lr: 0.0100\n",
            "Epoch 13/25\n",
            "21/21 [==============================] - ETA: 0s - loss: 0.6333 - categorical_accuracy: 0.8884\n",
            "Epoch 00013: saving model to 2DCNN_108_bs32_sgd_2023-01-1114_05_01.521686/model-00013-0.63332-0.88839-0.59504-0.85000.h5\n",
            "21/21 [==============================] - 94s 5s/step - loss: 0.6333 - categorical_accuracy: 0.8884 - val_loss: 0.5950 - val_categorical_accuracy: 0.8500 - lr: 0.0100\n",
            "Epoch 14/25\n",
            "21/21 [==============================] - ETA: 0s - loss: 0.5624 - categorical_accuracy: 0.9125\n",
            "Epoch 00014: saving model to 2DCNN_108_bs32_sgd_2023-01-1114_05_01.521686/model-00014-0.56241-0.91252-0.47945-0.93000.h5\n",
            "21/21 [==============================] - 94s 5s/step - loss: 0.5624 - categorical_accuracy: 0.9125 - val_loss: 0.4795 - val_categorical_accuracy: 0.9300 - lr: 0.0100\n",
            "Epoch 15/25\n",
            "21/21 [==============================] - ETA: 0s - loss: 0.5335 - categorical_accuracy: 0.9050\n",
            "Epoch 00015: saving model to 2DCNN_108_bs32_sgd_2023-01-1114_05_01.521686/model-00015-0.53353-0.90498-0.41929-0.91000.h5\n",
            "21/21 [==============================] - 97s 5s/step - loss: 0.5335 - categorical_accuracy: 0.9050 - val_loss: 0.4193 - val_categorical_accuracy: 0.9100 - lr: 0.0100\n",
            "Epoch 16/25\n",
            "21/21 [==============================] - ETA: 0s - loss: 0.5050 - categorical_accuracy: 0.9035\n",
            "Epoch 00016: saving model to 2DCNN_108_bs32_sgd_2023-01-1114_05_01.521686/model-00016-0.50500-0.90347-0.74061-0.78000.h5\n",
            "21/21 [==============================] - 93s 5s/step - loss: 0.5050 - categorical_accuracy: 0.9035 - val_loss: 0.7406 - val_categorical_accuracy: 0.7800 - lr: 0.0100\n",
            "Epoch 17/25\n",
            "21/21 [==============================] - ETA: 0s - loss: 0.4676 - categorical_accuracy: 0.9246\n",
            "Epoch 00017: saving model to 2DCNN_108_bs32_sgd_2023-01-1114_05_01.521686/model-00017-0.46759-0.92459-0.36577-0.93000.h5\n",
            "21/21 [==============================] - 97s 5s/step - loss: 0.4676 - categorical_accuracy: 0.9246 - val_loss: 0.3658 - val_categorical_accuracy: 0.9300 - lr: 0.0100\n",
            "Epoch 18/25\n",
            "21/21 [==============================] - ETA: 0s - loss: 0.4110 - categorical_accuracy: 0.9397\n",
            "Epoch 00018: saving model to 2DCNN_108_bs32_sgd_2023-01-1114_05_01.521686/model-00018-0.41098-0.93967-0.33033-0.96000.h5\n",
            "21/21 [==============================] - 97s 5s/step - loss: 0.4110 - categorical_accuracy: 0.9397 - val_loss: 0.3303 - val_categorical_accuracy: 0.9600 - lr: 0.0100\n",
            "Epoch 19/25\n",
            "21/21 [==============================] - ETA: 0s - loss: 0.3601 - categorical_accuracy: 0.9517\n",
            "Epoch 00019: saving model to 2DCNN_108_bs32_sgd_2023-01-1114_05_01.521686/model-00019-0.36011-0.95173-0.28833-0.94000.h5\n",
            "21/21 [==============================] - 96s 5s/step - loss: 0.3601 - categorical_accuracy: 0.9517 - val_loss: 0.2883 - val_categorical_accuracy: 0.9400 - lr: 0.0100\n",
            "Epoch 20/25\n",
            "21/21 [==============================] - ETA: 0s - loss: 0.3369 - categorical_accuracy: 0.9548\n",
            "Epoch 00020: saving model to 2DCNN_108_bs32_sgd_2023-01-1114_05_01.521686/model-00020-0.33689-0.95475-0.47821-0.88000.h5\n",
            "21/21 [==============================] - 93s 5s/step - loss: 0.3369 - categorical_accuracy: 0.9548 - val_loss: 0.4782 - val_categorical_accuracy: 0.8800 - lr: 0.0100\n",
            "Epoch 21/25\n",
            "21/21 [==============================] - ETA: 0s - loss: 0.3804 - categorical_accuracy: 0.9186\n",
            "Epoch 00021: saving model to 2DCNN_108_bs32_sgd_2023-01-1114_05_01.521686/model-00021-0.38036-0.91855-0.24197-0.97000.h5\n",
            "21/21 [==============================] - 96s 5s/step - loss: 0.3804 - categorical_accuracy: 0.9186 - val_loss: 0.2420 - val_categorical_accuracy: 0.9700 - lr: 0.0100\n",
            "Epoch 22/25\n",
            "21/21 [==============================] - ETA: 0s - loss: 0.3017 - categorical_accuracy: 0.9668\n",
            "Epoch 00022: saving model to 2DCNN_108_bs32_sgd_2023-01-1114_05_01.521686/model-00022-0.30167-0.96682-0.24796-0.94000.h5\n",
            "21/21 [==============================] - 97s 5s/step - loss: 0.3017 - categorical_accuracy: 0.9668 - val_loss: 0.2480 - val_categorical_accuracy: 0.9400 - lr: 0.0100\n",
            "Epoch 23/25\n",
            "21/21 [==============================] - ETA: 0s - loss: 0.2780 - categorical_accuracy: 0.9698\n",
            "Epoch 00023: saving model to 2DCNN_108_bs32_sgd_2023-01-1114_05_01.521686/model-00023-0.27801-0.96983-0.23834-0.92000.h5\n",
            "21/21 [==============================] - 96s 5s/step - loss: 0.2780 - categorical_accuracy: 0.9698 - val_loss: 0.2383 - val_categorical_accuracy: 0.9200 - lr: 0.0100\n",
            "Epoch 24/25\n",
            "21/21 [==============================] - ETA: 0s - loss: 0.3019 - categorical_accuracy: 0.9623\n",
            "Epoch 00024: saving model to 2DCNN_108_bs32_sgd_2023-01-1114_05_01.521686/model-00024-0.30193-0.96229-0.18615-0.97000.h5\n",
            "21/21 [==============================] - 92s 5s/step - loss: 0.3019 - categorical_accuracy: 0.9623 - val_loss: 0.1861 - val_categorical_accuracy: 0.9700 - lr: 0.0100\n",
            "Epoch 25/25\n",
            "16/21 [=====================>........] - ETA: 19s - loss: 0.2579 - categorical_accuracy: 0.9766"
          ]
        }
      ],
      "source": [
        "model_2dRnn.fit_generator(train_generator, steps_per_epoch=steps_per_epoch, epochs=num_epochs, verbose=1, \n",
        "                    callbacks=callbacks_list, validation_data=val_generator, \n",
        "                    validation_steps=validation_steps, class_weight=None, workers=1, initial_epoch=0)"
      ]
    },
    {
      "cell_type": "code",
      "execution_count": null,
      "metadata": {
        "id": "vtm5E51reBth"
      },
      "outputs": [],
      "source": []
    }
  ],
  "metadata": {
    "accelerator": "GPU",
    "colab": {
      "provenance": []
    },
    "gpuClass": "standard",
    "kernelspec": {
      "display_name": "Python 3 (ipykernel)",
      "language": "python",
      "name": "python3"
    },
    "language_info": {
      "codemirror_mode": {
        "name": "ipython",
        "version": 3
      },
      "file_extension": ".py",
      "mimetype": "text/x-python",
      "name": "python",
      "nbconvert_exporter": "python",
      "pygments_lexer": "ipython3",
      "version": "3.8.10"
    }
  },
  "nbformat": 4,
  "nbformat_minor": 0
}